{
 "cells": [
  {
   "cell_type": "code",
   "execution_count": null,
   "metadata": {},
   "outputs": [],
   "source": []
  },
  {
   "attachments": {},
   "cell_type": "markdown",
   "metadata": {},
   "source": [
    "# Cramer's rule\n",
    "\n",
    "The general idea being the parallelegrams (or higher dimensional parallelepipeds and such) formed by the basis vectors apart from (lets say) $x$ and the resultant vector, has unit base area and therefore it's area gives the transformed (in this case) $y$ component. Becuase we know the determinant of the tranformation (the factor by which the transformation scales the area of a shape - for example a parrelelagram), we can \"undo\" that scaling by dividing our parralelegram's area by the determinant. This gives us the original area of the parreleagram, which has the height of the y component of the original vector."
   ]
  },
  {
   "cell_type": "code",
   "execution_count": 17,
   "metadata": {},
   "outputs": [
    {
     "data": {
      "text/plain": [
       "array([2., 3.])"
      ]
     },
     "execution_count": 17,
     "metadata": {},
     "output_type": "execute_result"
    }
   ],
   "source": [
    "import numpy as np\n",
    "from numpy.linalg import solve, det"
   ]
  },
  {
   "cell_type": "code",
   "execution_count": null,
   "metadata": {},
   "outputs": [],
   "source": [
    "A = np.array([[3, 1],\n",
    "              [1, 3]])\n",
    "\n",
    "b = np.array([9, 11])"
   ]
  },
  {
   "cell_type": "code",
   "execution_count": 42,
   "metadata": {},
   "outputs": [],
   "source": [
    "def cramer(A, b):\n",
    "  numer = det(A)\n",
    "  b_col = b.reshape((2, 1))\n",
    "\n",
    "  x_par = det(np.hstack((b_col, A[:,1].reshape((2, 1)))))\n",
    "  x = x_par / numer\n",
    "\n",
    "  y_par = det(np.hstack((A[:,0].reshape((2, 1)), b_col)))\n",
    "  y = y_par / numer\n",
    "\n",
    "  return np.array([x, y])\n"
   ]
  },
  {
   "cell_type": "code",
   "execution_count": 46,
   "metadata": {},
   "outputs": [
    {
     "data": {
      "text/plain": [
       "(array([2., 3.]), array([2., 3.]))"
      ]
     },
     "execution_count": 46,
     "metadata": {},
     "output_type": "execute_result"
    }
   ],
   "source": [
    "cramer(A, b), solve(A, b)"
   ]
  },
  {
   "cell_type": "code",
   "execution_count": 13,
   "metadata": {},
   "outputs": [
    {
     "data": {
      "text/plain": [
       "array([7, 1, 9])"
      ]
     },
     "execution_count": 13,
     "metadata": {},
     "output_type": "execute_result"
    }
   ],
   "source": []
  },
  {
   "cell_type": "code",
   "execution_count": null,
   "metadata": {},
   "outputs": [],
   "source": []
  }
 ],
 "metadata": {
  "kernelspec": {
   "display_name": "venv",
   "language": "python",
   "name": "python3"
  },
  "language_info": {
   "codemirror_mode": {
    "name": "ipython",
    "version": 3
   },
   "file_extension": ".py",
   "mimetype": "text/x-python",
   "name": "python",
   "nbconvert_exporter": "python",
   "pygments_lexer": "ipython3",
   "version": "3.10.7"
  },
  "orig_nbformat": 4
 },
 "nbformat": 4,
 "nbformat_minor": 2
}
